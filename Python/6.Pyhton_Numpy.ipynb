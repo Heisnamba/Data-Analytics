{
  "nbformat": 4,
  "nbformat_minor": 0,
  "metadata": {
    "colab": {
      "provenance": []
    },
    "kernelspec": {
      "name": "python3",
      "display_name": "Python 3"
    },
    "language_info": {
      "name": "python"
    }
  },
  "cells": [
    {
      "cell_type": "markdown",
      "source": [
        "## Slicing arrays\n",
        "Slicing in python means taking elements from one given index to another given index.\n",
        "\n",
        "We pass slice instead of index like this: [start:end].\n",
        "\n",
        "We can also define the step, like this: [start:end:step]."
      ],
      "metadata": {
        "id": "_5CrEqY2imUg"
      }
    },
    {
      "cell_type": "code",
      "source": [
        "import numpy as np\n",
        "\n",
        "a1 = np.array([1, 2, 3, 4, 5, 6, 7])             # Slicing 1D Array\n",
        "\n",
        "# a1[1:5]                                        # [start:end]\n",
        "# a1[4:]\n",
        "a1[:4]"
      ],
      "metadata": {
        "id": "pdWhl772g3g-",
        "colab": {
          "base_uri": "https://localhost:8080/"
        },
        "outputId": "27e5c705-6c9c-4ecf-d62c-7e8c131c4fce"
      },
      "execution_count": null,
      "outputs": [
        {
          "output_type": "execute_result",
          "data": {
            "text/plain": [
              "array([1, 2, 3, 4])"
            ]
          },
          "metadata": {},
          "execution_count": 53
        }
      ]
    },
    {
      "cell_type": "code",
      "source": [
        "a2 = np.array([[1, 2, 3, 4, 5], [6, 7, 8, 9, 10]])      # Slicing 2D Array\n",
        "\n",
        "# a2[1, 1:4]                                            # [row:column]\n",
        "# a2[0:2, 2]\n",
        "a2[0:2, 1:4]"
      ],
      "metadata": {
        "id": "MPrCVPQdg3jM",
        "colab": {
          "base_uri": "https://localhost:8080/"
        },
        "outputId": "e760f495-6030-46c8-f6fb-af92c638e95e"
      },
      "execution_count": null,
      "outputs": [
        {
          "output_type": "execute_result",
          "data": {
            "text/plain": [
              "array([[2, 3, 4],\n",
              "       [7, 8, 9]])"
            ]
          },
          "metadata": {},
          "execution_count": 57
        }
      ]
    },
    {
      "cell_type": "code",
      "source": [
        "a3 = np.array([[[10, 11, 12], [13, 14, 15], [16, 17, 18]],          \n",
        "               [[20, 21, 22], [23, 24, 25], [26, 27, 28]],\n",
        "               [[30, 31, 32], [33, 34, 35], [36, 37, 38]]])           # # Slicing 3D Array"
      ],
      "metadata": {
        "id": "6pFBv-tXg3lU"
      },
      "execution_count": null,
      "outputs": []
    },
    {
      "cell_type": "code",
      "source": [
        "a3[:2,1:,:2]                                                          # [matrix:row:column]"
      ],
      "metadata": {
        "id": "sKv6yYKIg3nV",
        "colab": {
          "base_uri": "https://localhost:8080/"
        },
        "outputId": "33659d1f-38bc-489f-e238-4ff8944bd240"
      },
      "execution_count": null,
      "outputs": [
        {
          "output_type": "execute_result",
          "data": {
            "text/plain": [
              "array([[[13, 14],\n",
              "        [16, 17]],\n",
              "\n",
              "       [[23, 24],\n",
              "        [26, 27]]])"
            ]
          },
          "metadata": {},
          "execution_count": 63
        }
      ]
    },
    {
      "cell_type": "code",
      "source": [
        "a3.shape"
      ],
      "metadata": {
        "id": "rCZViER-g3pR",
        "colab": {
          "base_uri": "https://localhost:8080/"
        },
        "outputId": "7b2e53fb-616e-4390-f91b-ba09084dd86a"
      },
      "execution_count": null,
      "outputs": [
        {
          "output_type": "execute_result",
          "data": {
            "text/plain": [
              "(3, 3, 3)"
            ]
          },
          "metadata": {},
          "execution_count": 60
        }
      ]
    },
    {
      "cell_type": "code",
      "source": [],
      "metadata": {
        "id": "CZBjzZ05g3rg"
      },
      "execution_count": null,
      "outputs": []
    },
    {
      "cell_type": "code",
      "source": [],
      "metadata": {
        "id": "pRGgqDZ1g3tB"
      },
      "execution_count": null,
      "outputs": []
    },
    {
      "cell_type": "markdown",
      "source": [
        "# View vs Copy\n",
        "\n",
        "Copy is a new array, and the View is just a view of the original array.\n",
        "\n",
        "Any changes made to the **copy** will not affect original array.\n",
        "\n",
        "Any changes made to the **view** will affect the original array."
      ],
      "metadata": {
        "id": "kwge9Pl45-gI"
      }
    },
    {
      "cell_type": "code",
      "source": [
        "arr = np.array([1, 2, 3, 4, 5])\n",
        "\n",
        "# Copy Method\n",
        "\n",
        "copy = arr.copy()\n",
        "copy[0] = 42\n",
        "\n",
        "print(arr)\n",
        "print(copy)"
      ],
      "metadata": {
        "id": "Ozoy9Dt_g3wD",
        "colab": {
          "base_uri": "https://localhost:8080/"
        },
        "outputId": "7253015e-e0ee-4bc9-d8f3-10131634eecd"
      },
      "execution_count": null,
      "outputs": [
        {
          "output_type": "stream",
          "name": "stdout",
          "text": [
            "[1 2 3 4 5]\n",
            "[42  2  3  4  5]\n"
          ]
        }
      ]
    },
    {
      "cell_type": "code",
      "source": [
        "# View Method\n",
        "\n",
        "view = arr.view()\n",
        "view[0] = 42\n",
        "\n",
        "print(arr)\n",
        "print(view)"
      ],
      "metadata": {
        "id": "Ayrq2SoW740N",
        "colab": {
          "base_uri": "https://localhost:8080/"
        },
        "outputId": "0826f317-7295-4151-ca4f-48063904eac1"
      },
      "execution_count": null,
      "outputs": [
        {
          "output_type": "stream",
          "name": "stdout",
          "text": [
            "[42  2  3  4  5]\n",
            "[42  2  3  4  5]\n"
          ]
        }
      ]
    },
    {
      "cell_type": "code",
      "source": [],
      "metadata": {
        "id": "37qxM78675As"
      },
      "execution_count": null,
      "outputs": []
    },
    {
      "cell_type": "code",
      "source": [],
      "metadata": {
        "id": "Jv7goZnh75MU"
      },
      "execution_count": null,
      "outputs": []
    },
    {
      "cell_type": "code",
      "source": [],
      "metadata": {
        "id": "AsJD0IWMBJRP"
      },
      "execution_count": null,
      "outputs": []
    },
    {
      "cell_type": "markdown",
      "source": [
        "# Append , Insert and Delete Operations"
      ],
      "metadata": {
        "id": "LYmG8dHtPIF8"
      }
    },
    {
      "cell_type": "code",
      "source": [
        "a = np.array([[1,2,3],\n",
        "              [4,5,6]]) \n",
        " \n",
        "# Append Method\n",
        "\n",
        "np.append(a, [7,8,9]) \n",
        "np.append(a, [[7,8,9]],axis = 0) \n",
        "np.append(a, [[5],[8]],axis = 1)"
      ],
      "metadata": {
        "id": "Y5K3wky1BJTa",
        "colab": {
          "base_uri": "https://localhost:8080/"
        },
        "outputId": "8ba19c83-7d48-4753-a617-9a22f7261394"
      },
      "execution_count": null,
      "outputs": [
        {
          "output_type": "execute_result",
          "data": {
            "text/plain": [
              "array([[1, 2, 3, 5],\n",
              "       [4, 5, 6, 8]])"
            ]
          },
          "metadata": {},
          "execution_count": 116
        }
      ]
    },
    {
      "cell_type": "code",
      "source": [
        "a = np.array([[1,2],\n",
        "              [3,4],\n",
        "              [5,6]]) \n",
        "\n",
        "# Insert Method\n",
        "\n",
        "np.insert(a,3,[11,12]) \n",
        "np.insert(a,1,[11,12],axis = 0) \n",
        "np.insert(a,1,[11,12,13],axis = 1)"
      ],
      "metadata": {
        "id": "TPOzFwGTPQSl",
        "colab": {
          "base_uri": "https://localhost:8080/"
        },
        "outputId": "406107ee-9331-4290-bb0a-c93c9d50819f"
      },
      "execution_count": null,
      "outputs": [
        {
          "output_type": "execute_result",
          "data": {
            "text/plain": [
              "array([[ 1, 11,  2],\n",
              "       [ 3, 12,  4],\n",
              "       [ 5, 13,  6]])"
            ]
          },
          "metadata": {},
          "execution_count": 124
        }
      ]
    },
    {
      "cell_type": "code",
      "source": [
        "a = np.array([[ 1,  2,  3, 12],\n",
        "              [ 9,  5,  6,  11],\n",
        "              [ 8,  4, 10, 7]])\n",
        "\n",
        "# Delete Method\n",
        "\n",
        "np.delete(a,9) \n",
        "np.delete(a,1,axis = 1) \n",
        "np.delete(a,1,axis = 0) "
      ],
      "metadata": {
        "id": "n_3V0lt7PQU1",
        "colab": {
          "base_uri": "https://localhost:8080/"
        },
        "outputId": "4278766a-6581-47f5-d8a0-9c4895982c45"
      },
      "execution_count": null,
      "outputs": [
        {
          "output_type": "execute_result",
          "data": {
            "text/plain": [
              "array([[ 1,  2,  3, 12],\n",
              "       [ 8,  4, 10,  7]])"
            ]
          },
          "metadata": {},
          "execution_count": 132
        }
      ]
    },
    {
      "cell_type": "code",
      "source": [
        "np.ndim(a)"
      ],
      "metadata": {
        "id": "rdE7TUaDPQZ4",
        "colab": {
          "base_uri": "https://localhost:8080/"
        },
        "outputId": "6b20ec0a-1ae9-447a-a3ed-fe8d32a8cfa7"
      },
      "execution_count": null,
      "outputs": [
        {
          "output_type": "execute_result",
          "data": {
            "text/plain": [
              "2"
            ]
          },
          "metadata": {},
          "execution_count": 126
        }
      ]
    },
    {
      "cell_type": "code",
      "source": [],
      "metadata": {
        "id": "whS_RV9cPQis"
      },
      "execution_count": null,
      "outputs": []
    },
    {
      "cell_type": "code",
      "source": [],
      "metadata": {
        "id": "RhURBzwzPQk-"
      },
      "execution_count": null,
      "outputs": []
    },
    {
      "cell_type": "markdown",
      "source": [
        "# Hstack vs Vstack\n",
        "\n",
        "Hstack is used to join two arrays **Horizontally**.\n",
        "\n",
        "Vstack is used to join two arrays **Vertically**.\n"
      ],
      "metadata": {
        "id": "k7DcE6R1BKfX"
      }
    },
    {
      "cell_type": "code",
      "source": [
        "a = np.array([1, 2, 3])\n",
        "b = np.array([4, 5, 6])"
      ],
      "metadata": {
        "id": "9siOHvOXBJVi"
      },
      "execution_count": null,
      "outputs": []
    },
    {
      "cell_type": "code",
      "source": [
        "print(a,b) \n",
        "print(np.ndim(a), np.ndim(b))"
      ],
      "metadata": {
        "id": "psDC18pQBJXo",
        "colab": {
          "base_uri": "https://localhost:8080/"
        },
        "outputId": "e2d12cbb-4e50-485e-d72b-d27c250d1573"
      },
      "execution_count": null,
      "outputs": [
        {
          "output_type": "stream",
          "name": "stdout",
          "text": [
            "[1 2 3] [4 5 6]\n",
            "1 1\n"
          ]
        }
      ]
    },
    {
      "cell_type": "code",
      "source": [
        "# Performing Hstack\n",
        "\n",
        "result = np.hstack((a,b))\n",
        "\n",
        "print(result, np.ndim(result))"
      ],
      "metadata": {
        "id": "s88-QDBBBJZ6",
        "colab": {
          "base_uri": "https://localhost:8080/"
        },
        "outputId": "32d81033-307b-4345-a915-051dd8a5dc13"
      },
      "execution_count": null,
      "outputs": [
        {
          "output_type": "stream",
          "name": "stdout",
          "text": [
            "[1 2 3 4 5 6] 1\n"
          ]
        }
      ]
    },
    {
      "cell_type": "code",
      "source": [
        "# Performing Vstack\n",
        "\n",
        "result = np.vstack((a,b))\n",
        "\n",
        "print(result, np.ndim(result))"
      ],
      "metadata": {
        "id": "4NU5OftUDl5h",
        "colab": {
          "base_uri": "https://localhost:8080/"
        },
        "outputId": "7a6b73cb-1f29-4cce-f5c7-8d90cda0744a"
      },
      "execution_count": null,
      "outputs": [
        {
          "output_type": "stream",
          "name": "stdout",
          "text": [
            "[[1 2 3]\n",
            " [4 5 6]] 2\n"
          ]
        }
      ]
    },
    {
      "cell_type": "code",
      "source": [],
      "metadata": {
        "id": "rXXsBsxUDl78"
      },
      "execution_count": null,
      "outputs": []
    },
    {
      "cell_type": "code",
      "source": [],
      "metadata": {
        "id": "IS_KHhWbDl-t"
      },
      "execution_count": null,
      "outputs": []
    },
    {
      "cell_type": "code",
      "source": [],
      "metadata": {
        "id": "-hbic_I5DmBq"
      },
      "execution_count": null,
      "outputs": []
    },
    {
      "cell_type": "markdown",
      "source": [
        "# Numpy Concatenation\n",
        "\n",
        "It is used for joining two or more arrays of the same shape along a specified axis.\n",
        "\n",
        "Axis = 0, Adding new rows\n",
        "\n",
        "Axis = 1, Adding new columns\n"
      ],
      "metadata": {
        "id": "Mh1rrauKETDN"
      }
    },
    {
      "cell_type": "code",
      "source": [
        "arr1 = np.array([[2, 4], [6, 8]])\n",
        "arr2 = np.array([[3, 5], [7, 9]])\n",
        "\n",
        "arr3 = np.array([[3], [9]])\n",
        "arr4 = np.array([[4 , 8]])\n",
        "\n",
        "  \n",
        "new = np.concatenate((arr1, arr2), axis = 0)\n",
        "  \n",
        "print(new)"
      ],
      "metadata": {
        "id": "YjMeNhqJEmO7",
        "colab": {
          "base_uri": "https://localhost:8080/"
        },
        "outputId": "02781d13-91f1-44d4-8b2f-ced92a8a8642"
      },
      "execution_count": null,
      "outputs": [
        {
          "output_type": "stream",
          "name": "stdout",
          "text": [
            "[[2 4]\n",
            " [6 8]\n",
            " [3 5]\n",
            " [7 9]]\n"
          ]
        }
      ]
    },
    {
      "cell_type": "code",
      "source": [
        "new = np.concatenate((arr1, arr2), axis = 1)\n",
        "  \n",
        "print(new)"
      ],
      "metadata": {
        "id": "jcrws4QsHPQV",
        "colab": {
          "base_uri": "https://localhost:8080/"
        },
        "outputId": "c1133527-fcf4-49a9-a5dc-64ca46d584f9"
      },
      "execution_count": null,
      "outputs": [
        {
          "output_type": "stream",
          "name": "stdout",
          "text": [
            "[[2 4 3 5]\n",
            " [6 8 7 9]]\n"
          ]
        }
      ]
    },
    {
      "cell_type": "code",
      "source": [],
      "metadata": {
        "id": "b45Rtjh_HPTe"
      },
      "execution_count": null,
      "outputs": []
    },
    {
      "cell_type": "code",
      "source": [],
      "metadata": {
        "id": "5-s_jRJNHPWI"
      },
      "execution_count": null,
      "outputs": []
    }
  ]
}
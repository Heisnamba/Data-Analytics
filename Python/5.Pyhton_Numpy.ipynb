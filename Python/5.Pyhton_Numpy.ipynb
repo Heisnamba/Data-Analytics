{
  "nbformat": 4,
  "nbformat_minor": 0,
  "metadata": {
    "colab": {
      "provenance": []
    },
    "kernelspec": {
      "name": "python3",
      "display_name": "Python 3"
    },
    "language_info": {
      "name": "python"
    }
  },
  "cells": [
    {
      "cell_type": "markdown",
      "source": [
        "# Numpy Array Dimensions\n",
        "\n",
        "1D Array\n",
        "\n",
        "2D Array\n",
        "\n",
        "3D Array"
      ],
      "metadata": {
        "id": "QdotJTdfDIG0"
      }
    },
    {
      "cell_type": "code",
      "source": [
        "import numpy as np      # importing numpy library"
      ],
      "metadata": {
        "id": "P2t3s34aC8zd"
      },
      "execution_count": null,
      "outputs": []
    },
    {
      "cell_type": "code",
      "source": [
        "A = np.array(5)        # Scalar Array\n",
        "A"
      ],
      "metadata": {
        "colab": {
          "base_uri": "https://localhost:8080/"
        },
        "id": "duYpdIjTC81i",
        "outputId": "94c4908c-f245-4ff5-9d06-d6dc15820e91"
      },
      "execution_count": null,
      "outputs": [
        {
          "output_type": "execute_result",
          "data": {
            "text/plain": [
              "array(5)"
            ]
          },
          "metadata": {},
          "execution_count": 56
        }
      ]
    },
    {
      "cell_type": "code",
      "source": [
        "np.ndim(A)               # Dimension method"
      ],
      "metadata": {
        "colab": {
          "base_uri": "https://localhost:8080/"
        },
        "id": "kH5n4yfUC83W",
        "outputId": "4fdd293e-e92c-4ce3-a14f-a4b1b59f0179"
      },
      "execution_count": null,
      "outputs": [
        {
          "output_type": "execute_result",
          "data": {
            "text/plain": [
              "0"
            ]
          },
          "metadata": {},
          "execution_count": 57
        }
      ]
    },
    {
      "cell_type": "code",
      "source": [
        "One = np.array([1, 2, 3, 4, 5])\n",
        "Two = np.array([[1, 2, 3], [4, 5, 6]])\n",
        "Three = np.array([[[1, 2, 3], [4, 5, 6]], [[1, 2, 3], [4, 5, 6]]])"
      ],
      "metadata": {
        "id": "NUIfRVB_C86s"
      },
      "execution_count": null,
      "outputs": []
    },
    {
      "cell_type": "code",
      "source": [
        "Three"
      ],
      "metadata": {
        "colab": {
          "base_uri": "https://localhost:8080/"
        },
        "id": "UfLxRm6mWMpl",
        "outputId": "2586bdfe-d7d3-495a-c7e8-a77a47df2d74"
      },
      "execution_count": null,
      "outputs": [
        {
          "output_type": "execute_result",
          "data": {
            "text/plain": [
              "array([[[1, 2, 3],\n",
              "        [4, 5, 6]],\n",
              "\n",
              "       [[1, 2, 3],\n",
              "        [4, 5, 6]]])"
            ]
          },
          "metadata": {},
          "execution_count": 67
        }
      ]
    },
    {
      "cell_type": "code",
      "source": [
        "# np.ndim(One)\n",
        "# np.ndim(Two)\n",
        "np.ndim(Three)"
      ],
      "metadata": {
        "colab": {
          "base_uri": "https://localhost:8080/"
        },
        "id": "b__zQgAvC88z",
        "outputId": "ba45f26b-bb7d-4da4-f79f-5e526b3330ba"
      },
      "execution_count": null,
      "outputs": [
        {
          "output_type": "execute_result",
          "data": {
            "text/plain": [
              "3"
            ]
          },
          "metadata": {},
          "execution_count": 65
        }
      ]
    },
    {
      "cell_type": "code",
      "source": [],
      "metadata": {
        "id": "g4Iyxu54C8-q"
      },
      "execution_count": null,
      "outputs": []
    },
    {
      "cell_type": "code",
      "source": [],
      "metadata": {
        "id": "MoBHvmZHC9CD"
      },
      "execution_count": null,
      "outputs": []
    },
    {
      "cell_type": "markdown",
      "source": [
        "# List vs Numpy Array"
      ],
      "metadata": {
        "id": "GHBp5JWLHCQN"
      }
    },
    {
      "cell_type": "code",
      "source": [
        "list1 = [1,4.0,'apple']                     # List - Different Datatypes\n",
        "arr = np.array([1, 2, 3, 4, 5])             # Array - Similar Datatypes"
      ],
      "metadata": {
        "id": "av6OOp0MC9EL"
      },
      "execution_count": null,
      "outputs": []
    },
    {
      "cell_type": "code",
      "source": [
        "arr = np.array([1, 2, 3.9, 'apple'])        # Type Conversion"
      ],
      "metadata": {
        "id": "yMGXeXRGHMaU"
      },
      "execution_count": null,
      "outputs": []
    },
    {
      "cell_type": "code",
      "source": [
        "arr"
      ],
      "metadata": {
        "colab": {
          "base_uri": "https://localhost:8080/"
        },
        "id": "UFqozM89XtBY",
        "outputId": "c90d318f-afca-4c79-b3cd-bfb878a41916"
      },
      "execution_count": null,
      "outputs": [
        {
          "output_type": "execute_result",
          "data": {
            "text/plain": [
              "array(['1', '2', '3.9', 'apple'], dtype='<U32')"
            ]
          },
          "metadata": {},
          "execution_count": 76
        }
      ]
    },
    {
      "cell_type": "code",
      "source": [
        "arr = np.array([1, 2, 3, 4, 5])             # Allows Mathematical Operations\n",
        "\n",
        "# arr/5\n",
        "# list1/5"
      ],
      "metadata": {
        "id": "0WNjsiw9HMdu"
      },
      "execution_count": null,
      "outputs": []
    },
    {
      "cell_type": "code",
      "source": [],
      "metadata": {
        "id": "mA36IcVhKX5N"
      },
      "execution_count": null,
      "outputs": []
    },
    {
      "cell_type": "markdown",
      "source": [
        "# More Advantages of Numpy Array over list\n",
        "\n",
        "*   Array consumes less memory\n",
        "*   Array are faster than lists\n",
        "\n"
      ],
      "metadata": {
        "id": "Aqu_C2A7J9lu"
      }
    },
    {
      "cell_type": "code",
      "source": [],
      "metadata": {
        "id": "k0dl0ke-KWwi"
      },
      "execution_count": null,
      "outputs": []
    },
    {
      "cell_type": "code",
      "source": [],
      "metadata": {
        "id": "no42aAEFLkGO"
      },
      "execution_count": null,
      "outputs": []
    },
    {
      "cell_type": "code",
      "source": [],
      "metadata": {
        "id": "rArm66RPLkIO"
      },
      "execution_count": null,
      "outputs": []
    },
    {
      "cell_type": "markdown",
      "source": [
        "# Reshaping arrays\n",
        "\n",
        "Reshaping means changing the shape of an array."
      ],
      "metadata": {
        "id": "Q2a3EUKFLlt_"
      }
    },
    {
      "cell_type": "code",
      "source": [
        "arr = np.array([1, 2, 3, 4, 5, 6, 7, 8, 9, 10, 11, 12])   # 1D Array\n",
        "\n",
        "# 1D to 2D Array \n",
        "newarr = arr.reshape(4, 3)\n"
      ],
      "metadata": {
        "id": "WpAVFBamLkrt"
      },
      "execution_count": null,
      "outputs": []
    },
    {
      "cell_type": "code",
      "source": [
        "print(newarr)"
      ],
      "metadata": {
        "colab": {
          "base_uri": "https://localhost:8080/"
        },
        "id": "eU_QdrgQMhpe",
        "outputId": "e8a771ee-0491-462c-9321-adbc1ed8d833"
      },
      "execution_count": null,
      "outputs": [
        {
          "output_type": "stream",
          "name": "stdout",
          "text": [
            "[[ 1  2  3]\n",
            " [ 4  5  6]\n",
            " [ 7  8  9]\n",
            " [10 11 12]]\n"
          ]
        }
      ]
    },
    {
      "cell_type": "code",
      "source": [
        "# 1D to 3D Array \n",
        "\n",
        "newarr = arr.reshape(2, 3, 2)\n"
      ],
      "metadata": {
        "id": "AYkQVlWjMhrl"
      },
      "execution_count": null,
      "outputs": []
    },
    {
      "cell_type": "code",
      "source": [
        "print(newarr)"
      ],
      "metadata": {
        "colab": {
          "base_uri": "https://localhost:8080/"
        },
        "id": "x6PYF8phMhxF",
        "outputId": "ee7a990c-4553-414b-9d0f-6b19a762b085"
      },
      "execution_count": null,
      "outputs": [
        {
          "output_type": "stream",
          "name": "stdout",
          "text": [
            "[[[ 1  2]\n",
            "  [ 3  4]\n",
            "  [ 5  6]]\n",
            "\n",
            " [[ 7  8]\n",
            "  [ 9 10]\n",
            "  [11 12]]]\n"
          ]
        }
      ]
    },
    {
      "cell_type": "code",
      "source": [],
      "metadata": {
        "id": "7I6IWAVEOgNl"
      },
      "execution_count": null,
      "outputs": []
    },
    {
      "cell_type": "code",
      "source": [],
      "metadata": {
        "id": "CQWlxqh_Omcv"
      },
      "execution_count": null,
      "outputs": []
    },
    {
      "cell_type": "markdown",
      "source": [
        "# Array Indexing\n",
        "\n",
        "Array indexing is the same as accessing an array element.\n",
        "\n",
        "You can access an array element by referring to its index number."
      ],
      "metadata": {
        "id": "PgIzIak6OoFm"
      }
    },
    {
      "cell_type": "code",
      "source": [
        "arr = np.array([1, 2, 3, 4])              # Accessing 1D Array\n",
        "\n",
        "print(arr[3])"
      ],
      "metadata": {
        "colab": {
          "base_uri": "https://localhost:8080/"
        },
        "id": "0tX3tbEiOyG5",
        "outputId": "d6ba9979-2a2e-4fc2-e538-74c77e3dac77"
      },
      "execution_count": null,
      "outputs": [
        {
          "output_type": "stream",
          "name": "stdout",
          "text": [
            "4\n"
          ]
        }
      ]
    },
    {
      "cell_type": "code",
      "source": [
        "print(arr[2] + arr[3])                 # Addition of 2 elements"
      ],
      "metadata": {
        "colab": {
          "base_uri": "https://localhost:8080/"
        },
        "id": "Tsmv3DEFOypt",
        "outputId": "b6e041a0-4876-41e4-b829-5500d9cfddb6"
      },
      "execution_count": null,
      "outputs": [
        {
          "output_type": "stream",
          "name": "stdout",
          "text": [
            "7\n"
          ]
        }
      ]
    },
    {
      "cell_type": "code",
      "source": [
        "arr = np.array([[1,2,3,4,5], [6,7,8,9,10]])  # Accessing 2D Array\n",
        "\n",
        "print(arr[0, 1])                          # 1st row 2nd element\n",
        "print(arr[1, 4])                          # 2nd row 5th element"
      ],
      "metadata": {
        "colab": {
          "base_uri": "https://localhost:8080/"
        },
        "id": "3Rr5Z3S8Oyrd",
        "outputId": "52d7372a-a024-4ad6-fe68-b138233db293"
      },
      "execution_count": null,
      "outputs": [
        {
          "output_type": "stream",
          "name": "stdout",
          "text": [
            "2\n",
            "10\n"
          ]
        }
      ]
    },
    {
      "cell_type": "code",
      "source": [
        "arr = np.array([[[1, 2, 3], [4, 5, 6]], [[7, 8, 9], [10, 11, 12]]])   # Accessing 3D Array\n",
        "\n",
        "print(arr[0, 1, 2])               # 0th matrix, 2nd row, 3rd column\n",
        "print(arr[1, 1, 0])               # 1st matrix, 2nd row, 1st column"
      ],
      "metadata": {
        "colab": {
          "base_uri": "https://localhost:8080/"
        },
        "id": "7YsdWkpKOyvF",
        "outputId": "2f8d7587-74da-434c-93ff-bceded436a95"
      },
      "execution_count": null,
      "outputs": [
        {
          "output_type": "stream",
          "name": "stdout",
          "text": [
            "6\n",
            "10\n"
          ]
        }
      ]
    },
    {
      "cell_type": "code",
      "source": [
        "arr"
      ],
      "metadata": {
        "colab": {
          "base_uri": "https://localhost:8080/"
        },
        "id": "VRXw8RoQRYEX",
        "outputId": "340aadec-a12b-44b0-e043-b9f4f718574d"
      },
      "execution_count": null,
      "outputs": [
        {
          "output_type": "execute_result",
          "data": {
            "text/plain": [
              "array([[[ 1,  2,  3],\n",
              "        [ 4,  5,  6]],\n",
              "\n",
              "       [[ 7,  8,  9],\n",
              "        [10, 11, 12]]])"
            ]
          },
          "metadata": {},
          "execution_count": 98
        }
      ]
    },
    {
      "cell_type": "code",
      "source": [],
      "metadata": {
        "id": "rPuQA0msRYGP"
      },
      "execution_count": null,
      "outputs": []
    }
  ]
}
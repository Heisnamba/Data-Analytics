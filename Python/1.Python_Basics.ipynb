{
  "nbformat": 4,
  "nbformat_minor": 0,
  "metadata": {
    "colab": {
      "provenance": []
    },
    "kernelspec": {
      "name": "python3",
      "display_name": "Python 3"
    },
    "language_info": {
      "name": "python"
    }
  },
  "cells": [
    {
      "cell_type": "markdown",
      "source": [
        "**Python Basic Terms**\n",
        "\n",
        "\n",
        "*   Syntax (Valid & Invalid)\n",
        "*   Comments\n",
        "\n"
      ],
      "metadata": {
        "id": "vTsmuXI7j0NM"
      }
    },
    {
      "cell_type": "code",
      "source": [
        "a = 'Sai'    # This is my name\n",
        "print(a)"
      ],
      "metadata": {
        "id": "gV8N7PgBhy5e",
        "colab": {
          "base_uri": "https://localhost:8080/"
        },
        "outputId": "bd3cea81-e5fb-42e8-88ed-667505c298aa"
      },
      "execution_count": null,
      "outputs": [
        {
          "output_type": "stream",
          "name": "stdout",
          "text": [
            "Sai\n"
          ]
        }
      ]
    },
    {
      "cell_type": "code",
      "source": [],
      "metadata": {
        "id": "R6sejPXzhzFx"
      },
      "execution_count": null,
      "outputs": []
    },
    {
      "cell_type": "markdown",
      "source": [
        "**Python Data Types, Type Casting & Variables**\n",
        "\n",
        "\n",
        "*   **Text Type:**\tstr\n",
        "*   **Numeric Types:**\tint, float\n",
        "*   **Sequence Types:**\tlist, tuple, range\n",
        "*   **Mapping Type:**\tdict\n",
        "*   **Set Types:**\tset\n",
        "*   **Boolean Type:**\tbool\n",
        "\n",
        "\n"
      ],
      "metadata": {
        "id": "W_B3PupFt5B6"
      }
    },
    {
      "cell_type": "code",
      "source": [
        "student1 = ('Rishika', 21, 90.2)    # Cannot modify it\n",
        "student2 = ['Rishika', 21, 90.2]    # Can modify it\n",
        "student3 = {'Rishika', 21, 90.2}    # Random Output"
      ],
      "metadata": {
        "id": "1Z6vCUpft539"
      },
      "execution_count": null,
      "outputs": []
    },
    {
      "cell_type": "code",
      "source": [
        "type(student3)"
      ],
      "metadata": {
        "colab": {
          "base_uri": "https://localhost:8080/"
        },
        "id": "CF60KB5Ibg3X",
        "outputId": "cf6f25b7-89fa-4957-8104-f9aa2796e884"
      },
      "execution_count": null,
      "outputs": [
        {
          "output_type": "execute_result",
          "data": {
            "text/plain": [
              "set"
            ]
          },
          "metadata": {},
          "execution_count": 47
        }
      ]
    },
    {
      "cell_type": "code",
      "source": [
        "student = {'Name':'Rishika', 'Age': 21, 'Percent':90.2}"
      ],
      "metadata": {
        "id": "JWNv8oJFwr1h"
      },
      "execution_count": null,
      "outputs": []
    },
    {
      "cell_type": "code",
      "source": [
        "bool(0)"
      ],
      "metadata": {
        "colab": {
          "base_uri": "https://localhost:8080/"
        },
        "id": "1jSqcl2MNfCY",
        "outputId": "61f182c6-2742-410c-de90-77765e7f782d"
      },
      "execution_count": null,
      "outputs": [
        {
          "output_type": "execute_result",
          "data": {
            "text/plain": [
              "False"
            ]
          },
          "metadata": {},
          "execution_count": 53
        }
      ]
    },
    {
      "cell_type": "code",
      "source": [],
      "metadata": {
        "id": "C38yjp4ww6uO"
      },
      "execution_count": null,
      "outputs": []
    },
    {
      "cell_type": "markdown",
      "source": [
        "**Python Operators**\n",
        "\n",
        "*   Arithmetic operators\n",
        "*   Assignment operators\n",
        "*   Comparison operators\n",
        "*   Logical operators\n",
        "*   Membership operators"
      ],
      "metadata": {
        "id": "CUMJaslIw7qD"
      }
    },
    {
      "cell_type": "code",
      "source": [
        "# Arithmetic Operators (+,-,*,/,%,**)                        # Used with numeric values to perform common mathematical operations\n",
        "\n",
        "x = 5\n",
        "y = 8\n",
        "\n",
        "print(x+y, x-y, x*y, x/y, x%y, x**y)"
      ],
      "metadata": {
        "id": "ZBFXMVCw6if9",
        "colab": {
          "base_uri": "https://localhost:8080/"
        },
        "outputId": "6a80ec4b-1161-41aa-929c-c07ff3521079"
      },
      "execution_count": null,
      "outputs": [
        {
          "output_type": "stream",
          "name": "stdout",
          "text": [
            "13 -3 40 0.625 5 390625\n"
          ]
        }
      ]
    },
    {
      "cell_type": "code",
      "source": [
        "# Assignment Operators (=,+=,-=,*=,/=,%=,**=)                # Used to assign values to variables\n",
        "\n",
        "x, y = 5, 8\n",
        "\n",
        "# print(x = y, x += y, x -= y, x *= y, x %= y, x /= y, x **= y)\n",
        "\n",
        "x -= y       # x = x - y\n",
        "x *= y       # x = x * y\n"
      ],
      "metadata": {
        "id": "9CUNVhBD6iiO"
      },
      "execution_count": null,
      "outputs": []
    },
    {
      "cell_type": "code",
      "source": [
        "# Comparison Operators (==,!=,<,>,<=,>=)                     # Used to compare two values\n",
        "\n",
        "# print(x == y, x != y, x < y, x > y, x <= y, x >= y)\n",
        "x, y = 5, 8\n",
        "\n",
        "x > y "
      ],
      "metadata": {
        "id": "mO9KdpFt6ikP",
        "colab": {
          "base_uri": "https://localhost:8080/"
        },
        "outputId": "46da7fa0-bd01-4a7a-9254-2f2657826a4c"
      },
      "execution_count": null,
      "outputs": [
        {
          "output_type": "execute_result",
          "data": {
            "text/plain": [
              "False"
            ]
          },
          "metadata": {},
          "execution_count": 45
        }
      ]
    },
    {
      "cell_type": "code",
      "source": [
        "# Logical Operators (==,!=,<,>,<=,>=)                        # Used to combine conditional statements\n",
        "\n",
        "# print(x and y, x or y, not y)\n",
        "\n",
        "not((x < y) or (x == y))\n",
        "# (x < y) or (x == y)"
      ],
      "metadata": {
        "id": "ARZIC6W46iml",
        "colab": {
          "base_uri": "https://localhost:8080/"
        },
        "outputId": "3be79770-9086-4ed6-bdb8-4289507ccc5c"
      },
      "execution_count": null,
      "outputs": [
        {
          "output_type": "execute_result",
          "data": {
            "text/plain": [
              "False"
            ]
          },
          "metadata": {},
          "execution_count": 52
        }
      ]
    },
    {
      "cell_type": "code",
      "source": [
        "# Membership Operators (==,!=,<,>,<=,>=)                     # Used to test if a sequence is presented in an object\n",
        "\n",
        "# print(x in y, x not in y)\n",
        "\n",
        "x = [1,2,3,4,5]\n",
        "y = 6\n",
        "\n",
        "y not in x"
      ],
      "metadata": {
        "id": "0ZpytLZ06iq8",
        "colab": {
          "base_uri": "https://localhost:8080/"
        },
        "outputId": "06a964a0-7e36-406c-c590-29b34f33938f"
      },
      "execution_count": null,
      "outputs": [
        {
          "output_type": "execute_result",
          "data": {
            "text/plain": [
              "True"
            ]
          },
          "metadata": {},
          "execution_count": 55
        }
      ]
    },
    {
      "cell_type": "code",
      "source": [],
      "metadata": {
        "id": "8o6nVYUc6is-"
      },
      "execution_count": null,
      "outputs": []
    },
    {
      "cell_type": "code",
      "source": [],
      "metadata": {
        "id": "1B_tJlgG6iu4"
      },
      "execution_count": null,
      "outputs": []
    }
  ]
}
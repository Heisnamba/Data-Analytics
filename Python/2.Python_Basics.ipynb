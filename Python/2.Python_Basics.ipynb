{
  "nbformat": 4,
  "nbformat_minor": 0,
  "metadata": {
    "colab": {
      "provenance": []
    },
    "kernelspec": {
      "name": "python3",
      "display_name": "Python 3"
    },
    "language_info": {
      "name": "python"
    }
  },
  "cells": [
    {
      "cell_type": "markdown",
      "source": [
        "\n",
        "# List and it's Methods\n",
        "\n",
        "Lists are used to store multiple items in a single variable.\n",
        "\n",
        "*   Lists are used to store multiple items in a single variable.\n",
        "*   It is a collection which is ordered, changeable and allows duplicate members.\n",
        "\n",
        "**List Methods**\n",
        "\n",
        "\n",
        "append(), sort(), reverse(), remove(), pop(), insert(), index(), extend(), count(), copy(), clear()\n",
        "\n",
        "\n",
        "\n",
        "\n",
        "\n"
      ],
      "metadata": {
        "id": "1P1jdwht7AjD"
      }
    },
    {
      "cell_type": "code",
      "source": [
        "fruits = ['apple', 'cherrry', 'banana']\n",
        "\n",
        "fruits.append(\"orange\")\n",
        "fruits.sort()\n",
        "fruits.reverse()\n",
        "fruits.remove(\"banana\")\n",
        "fruits.pop(1)\n",
        "fruits.insert(1, \"watermelon\")\n",
        "fruits.index(\"watermelon\")\n",
        "\n",
        "others = ['pineapple', 'strawaberry', 'guava','cherry','pineapple']\n",
        "\n",
        "fruits.extend(others)\n",
        "fruits.count(\"pineapple\")\n",
        "fruits.copy()\n",
        "fruits.clear()"
      ],
      "metadata": {
        "id": "9ks2pSF96rTZ"
      },
      "execution_count": null,
      "outputs": []
    },
    {
      "cell_type": "code",
      "source": [
        "fruits"
      ],
      "metadata": {
        "id": "48CrCwoH6rW0",
        "colab": {
          "base_uri": "https://localhost:8080/"
        },
        "outputId": "4861293a-5cd7-44bd-b101-97fb21cca429"
      },
      "execution_count": null,
      "outputs": [
        {
          "output_type": "execute_result",
          "data": {
            "text/plain": [
              "[]"
            ]
          },
          "metadata": {},
          "execution_count": 41
        }
      ]
    },
    {
      "cell_type": "code",
      "source": [],
      "metadata": {
        "id": "HXZXeG5vgEoR"
      },
      "execution_count": null,
      "outputs": []
    },
    {
      "cell_type": "markdown",
      "source": [
        "# String and it's Methods\n",
        "\n",
        "*   All string methods returns new values. They do not change the original string.\n",
        "\n",
        "**String Methods**\n",
        "\n",
        "\n",
        "*   isalpha(), isalnum(), index(), find(), count(), capitalize(), isdigit(), islower(), isnumeric()\n",
        "*   endswith(), upper(), title(), swapcase(), strip(), startswith(), split(), join(), lower(), replace()"
      ],
      "metadata": {
        "id": "1CeUtg8TA_jj"
      }
    },
    {
      "cell_type": "code",
      "source": [
        "txt = \"hello, and welcome to our course.\"\n",
        "a = txt.capitalize()\n",
        "# print(a)\n",
        "\n",
        "txt = \"I am from India and born in Maharashtra, India\"\n",
        "b = txt.count(\"India\")\n",
        "# print(b)\n",
        "\n",
        "txt = \"I love apples, apple are my favorite fruit\"\n",
        "c = txt.find(\"banana\")\n",
        "# print(c)\n",
        "\n",
        "d = txt.index(\"apple\")\n",
        "# print(d)\n",
        "\n",
        "txt = \"hello, my name is Peter, I am 26 years old\"\n",
        "e = txt.split(', ')\n",
        "# print(e)"
      ],
      "metadata": {
        "id": "cgSVsDxU6rc8"
      },
      "execution_count": null,
      "outputs": []
    },
    {
      "cell_type": "code",
      "source": [
        "txt = \"Company12\"\n",
        "name = txt.isalnum()\n",
        "# print(name)\n",
        "\n",
        "txt = \"Company\"\n",
        "alpha = txt.isalpha()\n",
        "# print(alpha)\n",
        "\n",
        "txt = '50800'\n",
        "num = txt.isdigit()\n",
        "# print(num)\n",
        "\n",
        "names = [\"John\", \"Peter\", \"Vicky\"]\n",
        "joined = \"_\".join(names)\n",
        "# print(joined)\n",
        "\n",
        "txt = \"I love sports\"\n",
        "result = txt.replace(\"sports\", \"cricket\")\n",
        "# print(result)"
      ],
      "metadata": {
        "id": "4wPE9X9y6rte"
      },
      "execution_count": null,
      "outputs": []
    },
    {
      "cell_type": "code",
      "source": [
        "txt = \"Hello, welcome to my world.\"\n",
        "start = txt.startswith(\"welcome\")\n",
        "end = txt.endswith(\"?\")"
      ],
      "metadata": {
        "id": "y6bq81tA6rxJ"
      },
      "execution_count": null,
      "outputs": []
    },
    {
      "cell_type": "code",
      "source": [
        "start, end"
      ],
      "metadata": {
        "id": "GyjuncKD6r5u",
        "colab": {
          "base_uri": "https://localhost:8080/"
        },
        "outputId": "74021d7c-e99e-467c-93d7-a90eafee8a9d"
      },
      "execution_count": null,
      "outputs": [
        {
          "output_type": "execute_result",
          "data": {
            "text/plain": [
              "(False, False)"
            ]
          },
          "metadata": {},
          "execution_count": 106
        }
      ]
    },
    {
      "cell_type": "code",
      "source": [],
      "metadata": {
        "id": "0_luCZIk6r9W"
      },
      "execution_count": null,
      "outputs": []
    },
    {
      "cell_type": "markdown",
      "source": [
        "# Python Conditional Statements\n",
        "\n",
        "\n",
        "*   If , elif, else statements"
      ],
      "metadata": {
        "id": "wjgI26BME9Qc"
      }
    },
    {
      "cell_type": "code",
      "source": [
        "b , a = 33 , 200\n",
        "\n",
        "# print(b>a)\n",
        "\n",
        "if b > a:\n",
        "  print(\"b is greater than a\")"
      ],
      "metadata": {
        "id": "qwjEKo2TE7sj"
      },
      "execution_count": null,
      "outputs": []
    },
    {
      "cell_type": "code",
      "source": [
        "aman , vinod = 80 , 80\n",
        "\n",
        "if vinod > aman:\n",
        "  print(\"vinod scores greater than aman\")\n",
        "elif aman == vinod:\n",
        "  print(\"Both scores equally\")"
      ],
      "metadata": {
        "id": "p1umnfvmE7uk",
        "colab": {
          "base_uri": "https://localhost:8080/"
        },
        "outputId": "16279168-03fd-4937-b255-76fcab7afcc0"
      },
      "execution_count": null,
      "outputs": [
        {
          "output_type": "stream",
          "name": "stdout",
          "text": [
            "Both scores equally\n"
          ]
        }
      ]
    },
    {
      "cell_type": "code",
      "source": [
        "if vinod > aman:\n",
        "  print(\"vinod scores greater than aman\")\n",
        "elif aman == vinod:\n",
        "  print(\"Both scores equally\")\n",
        "else:\n",
        "  print('aman scores greater than vinod')"
      ],
      "metadata": {
        "colab": {
          "base_uri": "https://localhost:8080/"
        },
        "id": "bzcR9vgGE7wq",
        "outputId": "f41c5abd-d713-4a75-9feb-5c88e8b7fe29"
      },
      "execution_count": null,
      "outputs": [
        {
          "output_type": "stream",
          "name": "stdout",
          "text": [
            "aman scores greater than vinod\n"
          ]
        }
      ]
    },
    {
      "cell_type": "code",
      "source": [
        "marks = 28\n",
        "\n",
        "if marks > 35:\n",
        "  print(\"He is Pass\")\n",
        "  if marks > 60:\n",
        "    print(\"He is in Distinction\")\n",
        "  else:\n",
        "    print(\"He is in Mid Range\")\n",
        "else:\n",
        "  print('Sadly, He is Fail')"
      ],
      "metadata": {
        "colab": {
          "base_uri": "https://localhost:8080/"
        },
        "id": "Wqb480gBE7yq",
        "outputId": "c2ed2fdb-9e1a-4dc4-c733-60e6b1cc0445"
      },
      "execution_count": null,
      "outputs": [
        {
          "output_type": "stream",
          "name": "stdout",
          "text": [
            "Sadly, He is Fail\n"
          ]
        }
      ]
    },
    {
      "cell_type": "code",
      "source": [],
      "metadata": {
        "id": "6uCvQvgBE8ES"
      },
      "execution_count": null,
      "outputs": []
    },
    {
      "cell_type": "code",
      "source": [],
      "metadata": {
        "id": "Q9EVE0q2E8GE"
      },
      "execution_count": null,
      "outputs": []
    }
  ]
}
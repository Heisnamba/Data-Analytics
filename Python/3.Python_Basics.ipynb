{
  "nbformat": 4,
  "nbformat_minor": 0,
  "metadata": {
    "colab": {
      "provenance": []
    },
    "kernelspec": {
      "name": "python3",
      "display_name": "Python 3"
    },
    "language_info": {
      "name": "python"
    }
  },
  "cells": [
    {
      "cell_type": "markdown",
      "source": [
        "# For Loop\n",
        "\n",
        "*   It is used for iterating over a sequence (that is either a list, a tuple, a dictionary, a set, or a string).\n",
        "*   Using Break & Contiue keyword\n",
        "\n"
      ],
      "metadata": {
        "id": "qVFRkTAnzX7k"
      }
    },
    {
      "cell_type": "code",
      "source": [
        "fruits = [\"apple\", \"banana\", \"cherry\",'pineappple','mango']\n",
        "\n",
        "for x in fruits:\n",
        "  print(x)"
      ],
      "metadata": {
        "colab": {
          "base_uri": "https://localhost:8080/"
        },
        "id": "0PJX371rzRtE",
        "outputId": "ff3f21ab-f323-4df8-cbde-7c9b23f0ac2d"
      },
      "execution_count": null,
      "outputs": [
        {
          "output_type": "stream",
          "name": "stdout",
          "text": [
            "apple\n",
            "banana\n",
            "cherry\n",
            "pineappple\n",
            "mango\n"
          ]
        }
      ]
    },
    {
      "cell_type": "code",
      "source": [
        "for x in fruits:\n",
        "  print(x)\n",
        "  if x == \"banana\":\n",
        "    break"
      ],
      "metadata": {
        "colab": {
          "base_uri": "https://localhost:8080/"
        },
        "id": "HLUxrJtZzRvU",
        "outputId": "155fc07e-75af-4d07-92c5-c2a443322663"
      },
      "execution_count": null,
      "outputs": [
        {
          "output_type": "stream",
          "name": "stdout",
          "text": [
            "apple\n",
            "banana\n"
          ]
        }
      ]
    },
    {
      "cell_type": "code",
      "source": [
        "for x in fruits:\n",
        "  if x == \"cherry\":\n",
        "    continue\n",
        "  print(x)"
      ],
      "metadata": {
        "colab": {
          "base_uri": "https://localhost:8080/"
        },
        "id": "_O3nKB7PzRxM",
        "outputId": "6ff27e3d-e5b1-4d48-e043-b6a8316ce2d4"
      },
      "execution_count": null,
      "outputs": [
        {
          "output_type": "stream",
          "name": "stdout",
          "text": [
            "apple\n",
            "banana\n",
            "pineappple\n",
            "mango\n"
          ]
        }
      ]
    },
    {
      "cell_type": "code",
      "source": [],
      "metadata": {
        "id": "Bs9dXpPrzR8z"
      },
      "execution_count": null,
      "outputs": []
    },
    {
      "cell_type": "code",
      "source": [],
      "metadata": {
        "id": "VOolsI5FzR-r"
      },
      "execution_count": null,
      "outputs": []
    },
    {
      "cell_type": "markdown",
      "source": [
        "# While Loop\n",
        "\n",
        "*   With the while loop we can execute a set of statements as long as a condition is true.\n",
        "*   Using Break & Contiue keyword"
      ],
      "metadata": {
        "id": "BbBlNnws3R4W"
      }
    },
    {
      "cell_type": "code",
      "source": [
        "num = 1\n",
        "\n",
        "while num < 6:\n",
        "  print(num)\n",
        "  num += 1"
      ],
      "metadata": {
        "colab": {
          "base_uri": "https://localhost:8080/"
        },
        "id": "kW6_6kfdzSHD",
        "outputId": "d0d14222-0031-4db2-ef49-ac4881ad34f9"
      },
      "execution_count": null,
      "outputs": [
        {
          "output_type": "stream",
          "name": "stdout",
          "text": [
            "1\n",
            "2\n",
            "3\n",
            "4\n",
            "5\n"
          ]
        }
      ]
    },
    {
      "cell_type": "code",
      "source": [
        "num = 1\n",
        "\n",
        "while num < 6:\n",
        "  print(num)\n",
        "  if num == 3:\n",
        "    break\n",
        "  num += 1"
      ],
      "metadata": {
        "colab": {
          "base_uri": "https://localhost:8080/"
        },
        "id": "llNoUMnIzSJb",
        "outputId": "a5715abe-f55f-47e1-8f8f-3cc44dfd0757"
      },
      "execution_count": null,
      "outputs": [
        {
          "output_type": "stream",
          "name": "stdout",
          "text": [
            "1\n",
            "2\n",
            "3\n"
          ]
        }
      ]
    },
    {
      "cell_type": "code",
      "source": [
        "num = 0\n",
        "\n",
        "while num < 10:\n",
        "  num += 1\n",
        "  if num == 5:\n",
        "    continue\n",
        "  print(num)"
      ],
      "metadata": {
        "colab": {
          "base_uri": "https://localhost:8080/"
        },
        "id": "216Eb_bp4I39",
        "outputId": "625d5c1d-afce-4bb1-835d-803586261cdd"
      },
      "execution_count": null,
      "outputs": [
        {
          "output_type": "stream",
          "name": "stdout",
          "text": [
            "1\n",
            "2\n",
            "3\n",
            "4\n",
            "6\n",
            "7\n",
            "8\n",
            "9\n",
            "10\n"
          ]
        }
      ]
    },
    {
      "cell_type": "code",
      "source": [],
      "metadata": {
        "id": "SeSY6lRE4I6E"
      },
      "execution_count": null,
      "outputs": []
    },
    {
      "cell_type": "code",
      "source": [],
      "metadata": {
        "id": "4WkVAVl14I7_"
      },
      "execution_count": null,
      "outputs": []
    },
    {
      "cell_type": "markdown",
      "source": [
        "# Python Functions\n",
        "\n",
        "*   A function is a block of code which only runs when it is called.\n",
        "\n",
        "*   Advanced Functions - lambda, map, zip"
      ],
      "metadata": {
        "id": "Cby1_zmlNmoy"
      }
    },
    {
      "cell_type": "code",
      "source": [
        "def my_function():                     # Function Defining\n",
        "  print(\"Hello i'm from a function\")"
      ],
      "metadata": {
        "id": "NnFc0NtONk-1"
      },
      "execution_count": null,
      "outputs": []
    },
    {
      "cell_type": "code",
      "source": [
        "my_function()       # Function Calling"
      ],
      "metadata": {
        "colab": {
          "base_uri": "https://localhost:8080/"
        },
        "id": "GRFH3KvUNlAc",
        "outputId": "9d81bce5-8842-4a89-ff3b-159ef45782ad"
      },
      "execution_count": null,
      "outputs": [
        {
          "output_type": "stream",
          "name": "stdout",
          "text": [
            "Hello i'm from a function\n"
          ]
        }
      ]
    },
    {
      "cell_type": "code",
      "source": [
        "def my_ID(name):                    # Function with Arguments\n",
        "  print(\"CR001_\" + name)\n",
        "\n",
        "my_ID(\"Onkar\")"
      ],
      "metadata": {
        "colab": {
          "base_uri": "https://localhost:8080/"
        },
        "id": "A6g3tDxPNlCl",
        "outputId": "d64ba6c5-6fac-432b-81a5-80283d980aa6"
      },
      "execution_count": null,
      "outputs": [
        {
          "output_type": "stream",
          "name": "stdout",
          "text": [
            "CR001_Onkar\n"
          ]
        }
      ]
    },
    {
      "cell_type": "code",
      "source": [
        "# def add(a,b,c):\n",
        "#   return a+b+c\n",
        "\n",
        "# add(4,5,1)\n",
        "\n",
        "# Using Lambda Function\n",
        "\n",
        "add = lambda a,b,c: print(a+b+c)\n",
        "add(4, 5, 5)"
      ],
      "metadata": {
        "colab": {
          "base_uri": "https://localhost:8080/"
        },
        "id": "W-oSbLOZQSeK",
        "outputId": "377e83e1-2cb2-4337-f62c-c3589854991f"
      },
      "execution_count": null,
      "outputs": [
        {
          "output_type": "stream",
          "name": "stdout",
          "text": [
            "14\n"
          ]
        }
      ]
    },
    {
      "cell_type": "code",
      "source": [
        "# Map Function\n",
        "\n",
        "nums = [1, 2, 3, 4, 5]  \n",
        "\n",
        "def sq(n):    \n",
        "    return n*n  \n",
        "\n",
        "square = map(sq, nums)\n",
        "\n",
        "print(list(square))"
      ],
      "metadata": {
        "colab": {
          "base_uri": "https://localhost:8080/"
        },
        "id": "mzGwEzSNQvoK",
        "outputId": "5867d048-1fae-43a7-d554-8cdacf7d1113"
      },
      "execution_count": null,
      "outputs": [
        {
          "output_type": "stream",
          "name": "stdout",
          "text": [
            "[1, 4, 9, 16, 25]\n"
          ]
        }
      ]
    },
    {
      "cell_type": "code",
      "source": [
        "# Zip Function\n",
        "\n",
        "name = [\"Manjeet\", \"Nikhil\", \"Shambhavi\"]\n",
        "ID = [4, 1, 3]\n",
        "\n",
        "mapped = zip(name, ID) \n",
        "\n",
        "print(list(mapped))"
      ],
      "metadata": {
        "colab": {
          "base_uri": "https://localhost:8080/"
        },
        "id": "S2vIGMY1RQ8V",
        "outputId": "19f61f86-80f5-4d35-d369-713f26459a93"
      },
      "execution_count": null,
      "outputs": [
        {
          "output_type": "stream",
          "name": "stdout",
          "text": [
            "[('Manjeet', 4), ('Nikhil', 1), ('Shambhavi', 3)]\n"
          ]
        }
      ]
    },
    {
      "cell_type": "code",
      "source": [],
      "metadata": {
        "id": "9cE0PxwDRRP-"
      },
      "execution_count": null,
      "outputs": []
    },
    {
      "cell_type": "code",
      "source": [],
      "metadata": {
        "id": "u2lr_RN9RRRb"
      },
      "execution_count": null,
      "outputs": []
    }
  ]
}